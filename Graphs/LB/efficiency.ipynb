{
 "cells": [
  {
   "cell_type": "code",
   "execution_count": 1,
   "metadata": {},
   "outputs": [
    {
     "name": "stdout",
     "output_type": "stream",
     "text": [
      "   Node  Knapsack Efficiency         File  SFC Efficiency  \\\n",
      "0     0             0.969401   2_8_output        0.998781   \n",
      "1     1             0.935673   2_8_output        0.998781   \n",
      "2     0             0.989076  2_16_output        0.986618   \n",
      "3     1             0.982954  2_16_output        0.986618   \n",
      "4     0             0.999046  2_32_output        0.996249   \n",
      "\n",
      "   Total Knapsack Efficiency  \n",
      "0                   0.934532  \n",
      "1                   0.934532  \n",
      "2                   0.969800  \n",
      "3                   0.969800  \n",
      "4                   0.991126  \n"
     ]
    }
   ],
   "source": [
    "import pandas as pd\n",
    "\n",
    "file_path = './output/all_efficiency_data.xlsx' \n",
    "xls = pd.ExcelFile(file_path)\n",
    "sheets = xls.sheet_names\n",
    "df_dict = {sheet: pd.read_excel(xls, sheet_name=sheet) for sheet in sheets}\n",
    "df_combined = pd.concat(df_dict.values(), ignore_index=True)\n",
    "print(df_combined.head())\n"
   ]
  },
  {
   "cell_type": "code",
   "execution_count": 2,
   "metadata": {},
   "outputs": [
    {
     "data": {
      "text/html": [
       "<div>\n",
       "<style scoped>\n",
       "    .dataframe tbody tr th:only-of-type {\n",
       "        vertical-align: middle;\n",
       "    }\n",
       "\n",
       "    .dataframe tbody tr th {\n",
       "        vertical-align: top;\n",
       "    }\n",
       "\n",
       "    .dataframe thead th {\n",
       "        text-align: right;\n",
       "    }\n",
       "</style>\n",
       "<table border=\"1\" class=\"dataframe\">\n",
       "  <thead>\n",
       "    <tr style=\"text-align: right;\">\n",
       "      <th></th>\n",
       "      <th>Node</th>\n",
       "      <th>Knapsack Efficiency</th>\n",
       "      <th>File</th>\n",
       "      <th>SFC Efficiency</th>\n",
       "      <th>Total Knapsack Efficiency</th>\n",
       "    </tr>\n",
       "  </thead>\n",
       "  <tbody>\n",
       "    <tr>\n",
       "      <th>0</th>\n",
       "      <td>0</td>\n",
       "      <td>0.969401</td>\n",
       "      <td>2_8_output</td>\n",
       "      <td>0.998781</td>\n",
       "      <td>0.934532</td>\n",
       "    </tr>\n",
       "    <tr>\n",
       "      <th>1</th>\n",
       "      <td>1</td>\n",
       "      <td>0.935673</td>\n",
       "      <td>2_8_output</td>\n",
       "      <td>0.998781</td>\n",
       "      <td>0.934532</td>\n",
       "    </tr>\n",
       "    <tr>\n",
       "      <th>2</th>\n",
       "      <td>0</td>\n",
       "      <td>0.989076</td>\n",
       "      <td>2_16_output</td>\n",
       "      <td>0.986618</td>\n",
       "      <td>0.969800</td>\n",
       "    </tr>\n",
       "    <tr>\n",
       "      <th>3</th>\n",
       "      <td>1</td>\n",
       "      <td>0.982954</td>\n",
       "      <td>2_16_output</td>\n",
       "      <td>0.986618</td>\n",
       "      <td>0.969800</td>\n",
       "    </tr>\n",
       "    <tr>\n",
       "      <th>4</th>\n",
       "      <td>0</td>\n",
       "      <td>0.999046</td>\n",
       "      <td>2_32_output</td>\n",
       "      <td>0.996249</td>\n",
       "      <td>0.991126</td>\n",
       "    </tr>\n",
       "    <tr>\n",
       "      <th>...</th>\n",
       "      <td>...</td>\n",
       "      <td>...</td>\n",
       "      <td>...</td>\n",
       "      <td>...</td>\n",
       "      <td>...</td>\n",
       "    </tr>\n",
       "    <tr>\n",
       "      <th>757</th>\n",
       "      <td>123</td>\n",
       "      <td>0.998370</td>\n",
       "      <td>128_2048_output</td>\n",
       "      <td>0.948507</td>\n",
       "      <td>0.837669</td>\n",
       "    </tr>\n",
       "    <tr>\n",
       "      <th>758</th>\n",
       "      <td>124</td>\n",
       "      <td>0.998059</td>\n",
       "      <td>128_2048_output</td>\n",
       "      <td>0.948507</td>\n",
       "      <td>0.837669</td>\n",
       "    </tr>\n",
       "    <tr>\n",
       "      <th>759</th>\n",
       "      <td>125</td>\n",
       "      <td>0.941334</td>\n",
       "      <td>128_2048_output</td>\n",
       "      <td>0.948507</td>\n",
       "      <td>0.837669</td>\n",
       "    </tr>\n",
       "    <tr>\n",
       "      <th>760</th>\n",
       "      <td>126</td>\n",
       "      <td>0.998933</td>\n",
       "      <td>128_2048_output</td>\n",
       "      <td>0.948507</td>\n",
       "      <td>0.837669</td>\n",
       "    </tr>\n",
       "    <tr>\n",
       "      <th>761</th>\n",
       "      <td>127</td>\n",
       "      <td>0.902030</td>\n",
       "      <td>128_2048_output</td>\n",
       "      <td>0.948507</td>\n",
       "      <td>0.837669</td>\n",
       "    </tr>\n",
       "  </tbody>\n",
       "</table>\n",
       "<p>762 rows × 5 columns</p>\n",
       "</div>"
      ],
      "text/plain": [
       "     Node  Knapsack Efficiency             File  SFC Efficiency  \\\n",
       "0       0             0.969401       2_8_output        0.998781   \n",
       "1       1             0.935673       2_8_output        0.998781   \n",
       "2       0             0.989076      2_16_output        0.986618   \n",
       "3       1             0.982954      2_16_output        0.986618   \n",
       "4       0             0.999046      2_32_output        0.996249   \n",
       "..    ...                  ...              ...             ...   \n",
       "757   123             0.998370  128_2048_output        0.948507   \n",
       "758   124             0.998059  128_2048_output        0.948507   \n",
       "759   125             0.941334  128_2048_output        0.948507   \n",
       "760   126             0.998933  128_2048_output        0.948507   \n",
       "761   127             0.902030  128_2048_output        0.948507   \n",
       "\n",
       "     Total Knapsack Efficiency  \n",
       "0                     0.934532  \n",
       "1                     0.934532  \n",
       "2                     0.969800  \n",
       "3                     0.969800  \n",
       "4                     0.991126  \n",
       "..                         ...  \n",
       "757                   0.837669  \n",
       "758                   0.837669  \n",
       "759                   0.837669  \n",
       "760                   0.837669  \n",
       "761                   0.837669  \n",
       "\n",
       "[762 rows x 5 columns]"
      ]
     },
     "execution_count": 2,
     "metadata": {},
     "output_type": "execute_result"
    }
   ],
   "source": [
    "df_combined"
   ]
  },
  {
   "cell_type": "code",
   "execution_count": 5,
   "metadata": {},
   "outputs": [],
   "source": [
    "files = ['./output/2_8_output.txt', './output/2_16_output.txt','./output/2_32_output.txt',\n",
    "'./output/4_16_output.txt','./output/4_32_output.txt','./output/4_64_output.txt','./output/8_32_output.txt'\n",
    ",'./output/8_64_output.txt','./output/8_128_output.txt','./output/16_64_output.txt','./output/16_128_output.txt'\n",
    ",'./output/16_256_output.txt','./output/32_128_output.txt','./output/32_256_output.txt','./output/32_512_output.txt',\n",
    "'./output/64_256_output.txt','./output/64_512_output.txt','./output/64_1024_output.txt','./output/128_512_output.txt',\n",
    "'./output/128_1024_output.txt','./output/128_2048_output.txt']  \n"
   ]
  },
  {
   "cell_type": "code",
   "execution_count": 9,
   "metadata": {},
   "outputs": [
    {
     "name": "stdout",
     "output_type": "stream",
     "text": [
      "dict_keys(['128_1024_output', '128_2048_output', '128_512_output', '16_128_output', '16_256_output', '16_64_output', '2_16_output', '2_32_output', '2_8_output', '32_128_output', '32_256_output', '32_512_output', '4_16_output', '4_32_output', '4_64_output', '64_1024_output', '64_256_output', '64_512_output', '8_128_output', '8_32_output', '8_64_output'])\n",
      "   Node  Knapsack Efficiency        File  SFC Efficiency  \\\n",
      "0     0             0.969401  2_8_output        0.998781   \n",
      "1     1             0.935673  2_8_output        0.998781   \n",
      "\n",
      "   Total Knapsack Efficiency  \n",
      "0                   0.934532  \n",
      "1                   0.934532  \n"
     ]
    }
   ],
   "source": [
    "def separate_dataframes_by_file(df):\n",
    "    df.sort_values(by=['File', 'Node'], inplace=True)\n",
    "    unique_files = df['File'].unique()\n",
    "    dfs = {}\n",
    "    \n",
    "    for file in unique_files:\n",
    "        dfs[file] = df[df['File'] == file]\n",
    "    \n",
    "    return dfs\n",
    "dfs_by_file = separate_dataframes_by_file(df_combined)\n",
    "print(dfs_by_file.keys())  \n",
    "print(dfs_by_file['2_8_output'].head())\n"
   ]
  },
  {
   "cell_type": "code",
   "execution_count": 11,
   "metadata": {},
   "outputs": [
    {
     "data": {
      "text/html": [
       "<div>\n",
       "<style scoped>\n",
       "    .dataframe tbody tr th:only-of-type {\n",
       "        vertical-align: middle;\n",
       "    }\n",
       "\n",
       "    .dataframe tbody tr th {\n",
       "        vertical-align: top;\n",
       "    }\n",
       "\n",
       "    .dataframe thead th {\n",
       "        text-align: right;\n",
       "    }\n",
       "</style>\n",
       "<table border=\"1\" class=\"dataframe\">\n",
       "  <thead>\n",
       "    <tr style=\"text-align: right;\">\n",
       "      <th></th>\n",
       "      <th>Node</th>\n",
       "      <th>Knapsack Efficiency</th>\n",
       "      <th>File</th>\n",
       "      <th>SFC Efficiency</th>\n",
       "      <th>Total Knapsack Efficiency</th>\n",
       "    </tr>\n",
       "  </thead>\n",
       "  <tbody>\n",
       "    <tr>\n",
       "      <th>0</th>\n",
       "      <td>0</td>\n",
       "      <td>0.969401</td>\n",
       "      <td>2_8_output</td>\n",
       "      <td>0.998781</td>\n",
       "      <td>0.934532</td>\n",
       "    </tr>\n",
       "    <tr>\n",
       "      <th>1</th>\n",
       "      <td>1</td>\n",
       "      <td>0.935673</td>\n",
       "      <td>2_8_output</td>\n",
       "      <td>0.998781</td>\n",
       "      <td>0.934532</td>\n",
       "    </tr>\n",
       "  </tbody>\n",
       "</table>\n",
       "</div>"
      ],
      "text/plain": [
       "   Node  Knapsack Efficiency        File  SFC Efficiency  \\\n",
       "0     0             0.969401  2_8_output        0.998781   \n",
       "1     1             0.935673  2_8_output        0.998781   \n",
       "\n",
       "   Total Knapsack Efficiency  \n",
       "0                   0.934532  \n",
       "1                   0.934532  "
      ]
     },
     "execution_count": 11,
     "metadata": {},
     "output_type": "execute_result"
    }
   ],
   "source": [
    "dfs_by_file['2_8_output']"
   ]
  },
  {
   "cell_type": "code",
   "execution_count": 12,
   "metadata": {},
   "outputs": [
    {
     "data": {
      "image/png": "[encoded data removed]",
      "text/plain": [
       "<Figure size 1000x600 with 1 Axes>"
      ]
     },
     "metadata": {},
     "output_type": "display_data"
    }
   ],
   "source": [
    "import matplotlib.pyplot as plt\n",
    "\n",
    "def plot_efficiencies_bar(df):\n",
    "    fig, ax = plt.subplots(figsize=(10, 6))\n",
    "    num_nodes = len(df['Node'])\n",
    "    bar_width = 0.25\n",
    "    positions = range(num_nodes)\n",
    "    ax.bar(positions, df['Knapsack Efficiency'], width=bar_width, label='Knapsack Efficiency', color='#ADD8E6')  # Light blue\n",
    "    ax.bar([p + bar_width for p in positions], df['SFC Efficiency'], width=bar_width, label='SFC Efficiency', color='#FFB6C1')  # Light pink\n",
    "    ax.bar([p + 2 * bar_width for p in positions], df['Total Knapsack Efficiency'], width=bar_width, label='Total Knapsack Efficiency', color='#90EE90')  # Light green\n",
    "    ax.set_xlabel('Node')\n",
    "    ax.set_ylabel('Efficiency')\n",
    "    ax.set_title(f'Efficiency Comparison for {df[\"File\"].iloc[0]}')\n",
    "    ax.set_xticks([p + bar_width for p in positions])\n",
    "    ax.set_xticklabels(df['Node'].astype(str))\n",
    "    ax.legend(loc='upper left', bbox_to_anchor=(1, 1))  \n",
    "    plt.tight_layout()\n",
    "    plt.show()\n",
    "plot_efficiencies_bar(dfs_by_file['2_32_output'])\n"
   ]
  },
  {
   "cell_type": "code",
   "execution_count": null,
   "metadata": {},
   "outputs": [],
   "source": []
  }
 ],
 "metadata": {
  "kernelspec": {
   "display_name": "Python 3",
   "language": "python",
   "name": "python3"
  },
  "language_info": {
   "codemirror_mode": {
    "name": "ipython",
    "version": 3
   },
   "file_extension": ".py",
   "mimetype": "text/x-python",
   "name": "python",
   "nbconvert_exporter": "python",
   "pygments_lexer": "ipython3",
   "version": "3.12.5"
  }
 },
 "nbformat": 4,
 "nbformat_minor": 2
}
